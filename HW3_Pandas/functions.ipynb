{
 "cells": [
  {
   "cell_type": "code",
   "execution_count": 3,
   "metadata": {},
   "outputs": [],
   "source": [
    "import pandas as pd"
   ]
  },
  {
   "attachments": {},
   "cell_type": "markdown",
   "metadata": {},
   "source": [
    "## Задание 1"
   ]
  },
  {
   "cell_type": "code",
   "execution_count": 4,
   "metadata": {},
   "outputs": [],
   "source": [
    "movies = pd.read_csv('../HW2_Pandas/ml-25m/movies.csv')\n",
    "ratings = pd.read_csv('../HW2_Pandas/ml-25m/ratings.csv')"
   ]
  },
  {
   "cell_type": "code",
   "execution_count": 5,
   "metadata": {},
   "outputs": [],
   "source": [
    "movie_ratings = movies.merge(right = ratings, how = 'left', on = 'movieId') ## Объединяем таблицы с фильмами и оценками "
   ]
  },
  {
   "cell_type": "code",
   "execution_count": 11,
   "metadata": {},
   "outputs": [],
   "source": [
    "def rate_qlty(rate):\n",
    "    if      rate <= 2:                  return 'Низкий рейтинг'\n",
    "    elif    rate <= 4:                  return 'Средний рейтинг'\n",
    "    elif    rate >= 4.5 and rate <= 5:  return 'Высокий рейтинг'\n",
    "    else:                               return 'Рейтинг не определен'"
   ]
  },
  {
   "cell_type": "code",
   "execution_count": 13,
   "metadata": {},
   "outputs": [],
   "source": [
    "movie_ratings['class'] = movie_ratings['rating'].apply(rate_qlty)"
   ]
  },
  {
   "attachments": {},
   "cell_type": "markdown",
   "metadata": {},
   "source": [
    "## Зададние 2"
   ]
  },
  {
   "cell_type": "code",
   "execution_count": 82,
   "metadata": {},
   "outputs": [],
   "source": [
    "df = pd.read_csv('keywords.csv')"
   ]
  },
  {
   "cell_type": "code",
   "execution_count": 83,
   "metadata": {},
   "outputs": [],
   "source": [
    "def geo_classifier(kw):\n",
    "    kw = kw.lower()\n",
    "    if      ('москва' in kw) or ('тула' in kw) or ('ярославль' in kw):          return 'Центр'\n",
    "    elif    ('петербург' in kw) or ('псков' in kw) or ('мурманск' in kw):       return 'Северо-Запад'\n",
    "    elif    ('владивосток' in kw) or ('сахалин' in kw) or ('хабаровск' in kw):  return 'Дальний Восток'\n",
    "    else:                                                                       return 'undefined'"
   ]
  },
  {
   "cell_type": "code",
   "execution_count": 84,
   "metadata": {},
   "outputs": [],
   "source": [
    "df['region'] = df['keyword'].apply(geo_classifier)"
   ]
  },
  {
   "attachments": {},
   "cell_type": "markdown",
   "metadata": {},
   "source": [
    "## Задание 3"
   ]
  },
  {
   "cell_type": "code",
   "execution_count": 63,
   "metadata": {},
   "outputs": [],
   "source": [
    "years = list(map(str, range(1950, 2011)))"
   ]
  },
  {
   "cell_type": "code",
   "execution_count": 64,
   "metadata": {},
   "outputs": [],
   "source": [
    "def production_year(title):\n",
    "    for year in years:\n",
    "        if year in title:\n",
    "            return int(year)\n",
    "    return 1900"
   ]
  },
  {
   "cell_type": "code",
   "execution_count": 65,
   "metadata": {},
   "outputs": [],
   "source": [
    "movies['year'] = movies['title'].apply(production_year) ## Выделим год для каждого фильма"
   ]
  },
  {
   "cell_type": "code",
   "execution_count": 66,
   "metadata": {},
   "outputs": [],
   "source": [
    "movie_ratings = movies.merge(right = ratings, how = 'left', on = 'movieId') ## Объединяем таблицы с фильмами и оценками "
   ]
  },
  {
   "cell_type": "code",
   "execution_count": 67,
   "metadata": {},
   "outputs": [],
   "source": [
    "year_rating = movie_ratings[['year', 'rating']].groupby('year').mean().sort_values(by = 'rating', ascending = False).reset_index()  ## Считаем среднее по году; сортируем по убыванию среднего рейтинга"
   ]
  },
  {
   "cell_type": "code",
   "execution_count": 68,
   "metadata": {},
   "outputs": [],
   "source": [
    "year_rating.to_excel('year_rating.xlsx')    ## Сохраняем в excel"
   ]
  },
  {
   "attachments": {},
   "cell_type": "markdown",
   "metadata": {},
   "source": [
    "### Вывод: В общем, тенденция к уменьшению среднего рейтинга с годами просматривается. Но это может быть связано с искушенностью зрителя с годами )."
   ]
  }
 ],
 "metadata": {
  "kernelspec": {
   "display_name": "base",
   "language": "python",
   "name": "python3"
  },
  "language_info": {
   "codemirror_mode": {
    "name": "ipython",
    "version": 3
   },
   "file_extension": ".py",
   "mimetype": "text/x-python",
   "name": "python",
   "nbconvert_exporter": "python",
   "pygments_lexer": "ipython3",
   "version": "3.9.13"
  },
  "orig_nbformat": 4
 },
 "nbformat": 4,
 "nbformat_minor": 2
}
